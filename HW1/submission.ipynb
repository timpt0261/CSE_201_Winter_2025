{
 "cells": [
  {
   "cell_type": "markdown",
   "metadata": {},
   "source": [
    "# Homework 1: Six Degrees of Kevin Bacon\n",
    "\n",
    "Read [bfs_six_degrees.pdf](bfs_six_degrees.pdf) for the assignment spec. Submit this .ipynb to the professor to demonstrate your solution. This is unofficial and is maintained by a fellow student, Justin, aka the glizzy goblin."
   ]
  },
  {
   "cell_type": "code",
   "execution_count": null,
   "metadata": {},
   "outputs": [],
   "source": [
    "from graph_tools import graph\n",
    "from collections import deque"
   ]
  },
  {
   "cell_type": "code",
   "execution_count": 14,
   "metadata": {},
   "outputs": [],
   "source": [
    "# Helper Functions\n",
    "def process_credits_file_to_graph(graph:graph, file_path:str):\n",
    "    try:\n",
    "        with  open(file_path, 'r', encoding='utf-8') as list_edges:\n",
    "            for line in list_edges:\n",
    "                process_line(graph, line)\n",
    "    except FileNotFoundError:\n",
    "        print(f\"Error: was not able to find {file_path}\")\n",
    "    except UnicodeDecodeError as e:\n",
    "        print(f\"Encoding error while reading the file: {e}\")\n",
    "\n",
    "def process_line(graph:graph, line:str):\n",
    "    split_line = line.strip().split()\n",
    "    if not split_line: return\n",
    "    \n",
    "    movie_name, actors = split_line[0], split_line[1:]\n",
    "    \n",
    "    for actor_1 in actors:\n",
    "        co_stars = [actor for actor in actors if actor != actor_1]\n",
    "        for actor_2 in co_stars:\n",
    "            graph.Add_und_edge(actor_1, actor_2, movie_name)"
   ]
  },
  {
   "cell_type": "code",
   "execution_count": 15,
   "metadata": {},
   "outputs": [],
   "source": [
    "small_actor_graph = graph()\n",
    "small_file_path = \"smaller_imdb_cleaned.txt\"\n",
    "process_credits_file_to_graph(small_actor_graph, small_file_path)"
   ]
  },
  {
   "cell_type": "code",
   "execution_count": 16,
   "metadata": {},
   "outputs": [],
   "source": [
    "large_actor_graph = graph()\n",
    "large_actor_file = \"all_imdb_cleaned.txt\"\n",
    "process_credits_file_to_graph(large_actor_graph, large_actor_file)"
   ]
  },
  {
   "cell_type": "code",
   "execution_count": 17,
   "metadata": {},
   "outputs": [],
   "source": [
    "def format_output(merged_result:list):\n",
    "    if not merged_result: return \"No path found\"\n",
    "    out=\"\"\n",
    "    for i in range(len(merged_result)):\n",
    "        if i % 2 == 1:\n",
    "            out += f\"-({merged_result[i]})-\"\n",
    "            continue\n",
    "        out += merged_result[i]\n",
    "    return out\n",
    "\n",
    "def reconstruct_path(adj, current, graph):\n",
    "        # reconstruct path from start to end given adjacency list        \n",
    "        total_path = []\n",
    "        while current in adj and current != None:\n",
    "            total_path.append(current)\n",
    "            current = adj[current]\n",
    "        total_path = total_path[::-1]\n",
    "        movies = [graph.adj_list[total_path[i]][total_path[i + 1]] for i in range(len(total_path) - 1)]\n",
    "        \n",
    "        # merge results between actor names and movie edges\n",
    "        merged_result = [item for pair in zip(total_path, movies) for item in pair]\n",
    "        merged_result.extend(total_path[len(movies):])\n",
    "\n",
    "        # format oout put as string\n",
    "        return format_output(merged_result)        "
   ]
  },
  {
   "cell_type": "markdown",
   "metadata": {},
   "source": [
    "**Vanilla BFS**"
   ]
  },
  {
   "cell_type": "code",
   "execution_count": 18,
   "metadata": {},
   "outputs": [],
   "source": [
    "def bfs(start:str, end:str, graph:graph):\n",
    "    if start not in graph.vertices or end not in graph.vertices:\n",
    "        return \"Not present\"    \n",
    "    queue = deque([])\n",
    "    visited = {actor: False for actor in graph.vertices}\n",
    "    pred = {actor: None for actor in graph.vertices}\n",
    "    \n",
    "    visited[start] = True\n",
    "    queue.append(start)\n",
    "    # while queue is not empty\n",
    "    while queue:\n",
    "        # pop from queue\n",
    "        current = queue.popleft()\n",
    "        if(current == end):\n",
    "            return reconstruct_path(adj=pred, current=current, graph=graph)\n",
    "        for neighbor in graph.adj_list[current]:\n",
    "                if not visited[neighbor]:\n",
    "                    visited[neighbor] = True\n",
    "                    pred[neighbor] = current\n",
    "                    queue.append(neighbor)\n",
    "               \n",
    "                \n",
    "    return \"Not present\"\n",
    "     "
   ]
  },
  {
   "cell_type": "markdown",
   "metadata": {},
   "source": [
    "**Bi-Directional BFS**"
   ]
  },
  {
   "cell_type": "code",
   "execution_count": 19,
   "metadata": {},
   "outputs": [],
   "source": [
    "# Refrenced https://www.geeksforgeeks.org/bidirectional-search/\n",
    "\n",
    "def reconstruct_bidi_path(start_pred, end_pred, start,end, mid, graph):\n",
    "    \n",
    "\ttotal_path = []\n",
    "\tcurrent = mid\n",
    "\twhile current in start_pred and current != None:\n",
    "\t\ttotal_path.append(current)\n",
    "\t\tcurrent = start_pred[current]\n",
    "  \n",
    "\ttotal_path = total_path[::-1]\n",
    "\tcurrent = end_pred[mid]\n",
    " \n",
    "\twhile current in end_pred and current != None:\n",
    "\t\ttotal_path.append(current)\n",
    "\t\tcurrent = end_pred[current]\n",
    "  \n",
    "\tmovies = [graph.adj_list[total_path[i]][total_path[i + 1]] for i in range(len(total_path) - 1)]\n",
    "\n",
    "\t# merge results between actor names and movie edges\n",
    "\tmerged_result = [item for pair in zip(total_path, movies) for item in pair]\n",
    "\tmerged_result.extend(total_path[len(movies):])\n",
    "\n",
    "\t# format oout put as string\n",
    "\treturn format_output(merged_result)\n",
    "\n",
    "def BiDi_BFS(start: str, end: str, graph: graph, bool):\n",
    "\tif start not in graph.vertices or end not in graph.vertices:\n",
    "\t\treturn \"Not present\"\n",
    "\tstart_queue = deque([])\n",
    "\tend_queue = deque([])\n",
    "\n",
    "\t# initializes start and end visted nodes as false\n",
    "\tstart_visited = {actor: False for actor in graph.vertices}\n",
    "\tend_visited = {actor: False for actor in graph.vertices}\n",
    "\n",
    "\t#initialize start and end adj list\n",
    "\tstart_pred = {actor: None for actor in graph.vertices}\n",
    "\tend_pred = {actor: None for actor in graph.vertices}\n",
    "\t\n",
    "\tstart_queue.append(start)\n",
    "\tstart_visited[start] = True\n",
    " \n",
    "\tend_queue.append(end)\n",
    "\tend_visited[end] = True\n",
    " \n",
    "\twhile len(start_queue) > 0  and len(end_queue) > 0:\n",
    "\t\t# Forward BFS\n",
    "\t\tcurr_start = start_queue.popleft()\n",
    "\t\tfor neighbor in graph.adj_list[curr_start]:\n",
    "\t\t\tif not start_visited[neighbor]:\n",
    "\t\t\t\tstart_visited[neighbor] = True\n",
    "\t\t\t\tstart_pred[neighbor] = curr_start\n",
    "\t\t\t\tstart_queue.append(neighbor)\n",
    "\t\t\tif(end_visited[neighbor]): # intersection has been found\n",
    "\t\t\t\treturn reconstruct_bidi_path(start_pred, end_pred, start, end, neighbor, graph)\n",
    "\t\t\t\n",
    "\t\t# Backward BFS\n",
    "\t\tcurr_end = end_queue.popleft()\n",
    "\t\tfor neighbor in graph.adj_list[curr_end]:\n",
    "\t\t\tif not end_visited[neighbor]:\n",
    "\t\t\t\tend_visited[neighbor] = True\n",
    "\t\t\t\tend_pred[neighbor] = curr_end\n",
    "\t\t\t\tend_queue.append(neighbor)\n",
    "\t\t\tif(start_visited[neighbor]): # intersection has been found\n",
    "\t\t\t\treturn reconstruct_bidi_path(start_pred, end_pred, start, end, neighbor, graph)\n",
    "\t\n",
    "\treturn \"No Path Found\""
   ]
  },
  {
   "cell_type": "markdown",
   "metadata": {},
   "source": [
    "## What You Need to Find\n",
    "\n",
    "This section outlines the specific questions you need to answer. Ensure each question is addressed in a separate code block, with the output clearly presented as either text or visual plots.\n",
    "\n"
   ]
  },
  {
   "cell_type": "markdown",
   "metadata": {},
   "source": [
    "1. **Shortest Paths**: For each credits file, find the shortest paths for all the pairs provided in the example input files. Handle corner cases such as:\n",
    "   - An actor not being present in the graph.\n",
    "   - The source and destination actors not being connected.  \n",
    "   Output appropriate messages for these cases.\n",
    "\n"
   ]
  },
  {
   "cell_type": "code",
   "execution_count": null,
   "metadata": {},
   "outputs": [],
   "source": [
    "input_file = \"more-input.txt\"\n",
    "output_file = \"more-output.txt\"\n",
    "\n",
    "input_parameters = open(input_file, 'r', encoding='utf-8')\n",
    "expected_output = open(output_file, 'r', encoding='utf-8')\n",
    "\n",
    "print(\"BFS Output\\n\")\n",
    "for param, out in zip(input_parameters, expected_output):\n",
    "    striped_param = param.strip().split()\n",
    "    start, end = striped_param[0], striped_param[1]\n",
    "    path = bfs(start=start, end=end, graph=small_actor_graph)\n",
    "    print(f\"small actor graph: {path}\\n\")"
   ]
  },
  {
   "cell_type": "code",
   "execution_count": null,
   "metadata": {},
   "outputs": [],
   "source": [
    "input_file = \"more-input.txt\"\n",
    "output_file = \"more-output.txt\"\n",
    "\n",
    "input_parameters = open(input_file, 'r', encoding='utf-8')\n",
    "expected_output = open(output_file, 'r', encoding='utf-8')\n",
    "\n",
    "print(\"Bi-Directional BFS Output\\n\")\n",
    "for param, out in zip(input_parameters, expected_output):\n",
    "    striped_param = param.strip().split()\n",
    "    start, end = striped_param[0], striped_param[1]\n",
    "    path = BiDi_BFS(start=start, end=end, graph=small_actor_graph)\n",
    "    print(f\"{path}\\n\")\n",
    "    "
   ]
  },
  {
   "cell_type": "markdown",
   "metadata": {},
   "source": [
    "2. **Interesting Paths**: Identify and include some interesting shortest paths discovered in either credits file.\n"
   ]
  },
  {
   "cell_type": "code",
   "execution_count": null,
   "metadata": {},
   "outputs": [],
   "source": [
    "# small graph \n",
    "for actor in small_actor_graph.vertices():\n",
    "    co_star = [a for a in small_actor_graph.vertices() ]"
   ]
  },
  {
   "cell_type": "markdown",
   "metadata": {},
   "source": [
    "\n",
    "3. **Path Differences**: Analyze how the shortest paths differ between the same vertex pairs across both credits files. Highlight cases where one file leads to shorter paths. Use random pairs to demonstrate the differences.\n"
   ]
  },
  {
   "cell_type": "code",
   "execution_count": null,
   "metadata": {},
   "outputs": [],
   "source": [
    "input_file = \"more-input.txt\"\n",
    "output_file = \"more-output.txt\"\n",
    "\n",
    "input_parameters = open(input_file, 'r', encoding='utf-8')\n",
    "expected_output = open(output_file, 'r', encoding='utf-8')\n",
    "\n",
    "print(\"BFS Output\\n\")\n",
    "for param, out in zip(input_parameters, expected_output):\n",
    "    striped_param = param.strip().split()\n",
    "    start, end = striped_param[0], striped_param[1]\n",
    "    path = bfs(start=start, end=end, graph=small_actor_graph)\n",
    "    print(f\"small actor graph: {path}\\n\")\n",
    "    \n",
    "    path = bfs(start=start, end=end, graph=large_actor_graph)\n",
    "    print(f\"large actor graph: {path}\\n\")"
   ]
  },
  {
   "cell_type": "markdown",
   "metadata": {},
   "source": [
    "\n",
    "4. **Kevin Bacon's Level Sets**: For Kevin Bacon or other notable starting actors, calculate the sizes of the level sets (sets of vertices at distance 1, 2, 3, etc.). Present the results in a plot.\n"
   ]
  },
  {
   "cell_type": "markdown",
   "metadata": {},
   "source": [
    "\n",
    "5. **Connected Components**: Determine the sizes of the connected components in each graph.\n"
   ]
  },
  {
   "cell_type": "markdown",
   "metadata": {},
   "source": [
    "\n",
    "6. **Edge Count Comparison**: Compare the number of edges traversed between vanilla BFS and Bidirectional BFS (Bi-BFS) for the pairs in the example input files. Include your own generated examples in this comparison.\n"
   ]
  },
  {
   "cell_type": "markdown",
   "metadata": {},
   "source": [
    "\n",
    "7. **Wall-Clock Time**: Measure and compare the actual running times of BFS and Bi-BFS using the `timeit` module in Python. Provide wall-clock time data for the pairs in the example input files, as well as your own examples.\n"
   ]
  },
  {
   "cell_type": "code",
   "execution_count": null,
   "metadata": {},
   "outputs": [],
   "source": []
  }
 ],
 "metadata": {
  "kernelspec": {
   "display_name": ".venv",
   "language": "python",
   "name": "python3"
  },
  "language_info": {
   "codemirror_mode": {
    "name": "ipython",
    "version": 3
   },
   "file_extension": ".py",
   "mimetype": "text/x-python",
   "name": "python",
   "nbconvert_exporter": "python",
   "pygments_lexer": "ipython3",
   "version": "3.13.1"
  }
 },
 "nbformat": 4,
 "nbformat_minor": 2
}
