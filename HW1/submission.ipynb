{
 "cells": [
  {
   "cell_type": "markdown",
   "metadata": {},
   "source": [
    "# Homework 1: Six Degrees of Kevin Bacon\n",
    "\n",
    "Read [bfs_six_degrees.pdf](bfs_six_degrees.pdf) for the assignment spec. Submit this .ipynb to the professor to demonstrate your solution. This is unofficial and is maintained by a fellow student, Justin, aka the glizzy goblin."
   ]
  },
  {
   "cell_type": "code",
   "execution_count": 28,
   "metadata": {},
   "outputs": [
    {
     "name": "stdout",
     "output_type": "stream",
     "text": [
      "5\n"
     ]
    }
   ],
   "source": [
    "from graph_tools import graph\n",
    "from collections import deque\n",
    "\n",
    "test = graph()\n",
    "test.vertices.add(5)\n",
    "print(test.vertices.pop())"
   ]
  },
  {
   "cell_type": "code",
   "execution_count": 29,
   "metadata": {},
   "outputs": [],
   "source": [
    "# Helper Functions\n",
    "def process_credits_file_to_graph(graph:graph, file_path:str):\n",
    "    try:\n",
    "        with  open(file_path, 'r', encoding='utf-8') as list_edges:\n",
    "            for line in list_edges:\n",
    "                process_line(graph, line)\n",
    "    except FileNotFoundError:\n",
    "        print(f\"Error: was not able to find {file_path}\")\n",
    "    except UnicodeDecodeError as e:\n",
    "        print(f\"Encoding error while reading the file: {e}\")\n",
    "\n",
    "def process_line(graph:graph, line:str):\n",
    "    split_line = line.strip().split()\n",
    "    if not split_line: return\n",
    "    \n",
    "    movie_name, actors = split_line[0], split_line[1:]\n",
    "    \n",
    "    for actor_1 in actors:\n",
    "        co_stars = [actor for actor in actors if actor != actor_1]\n",
    "        for actor_2 in co_stars:\n",
    "            graph.Add_und_edge(actor_1, actor_2, movie_name)"
   ]
  },
  {
   "cell_type": "markdown",
   "metadata": {},
   "source": [
    "**Vanilla BFS**"
   ]
  },
  {
   "cell_type": "code",
   "execution_count": 30,
   "metadata": {},
   "outputs": [],
   "source": [
    "def bfs(start:str, end:str, graph:graph):\n",
    "    def reconstruct_path(adj:list, current):\n",
    "        total_path = []\n",
    "        while current in adj and current != None:\n",
    "            total_path.append(current)\n",
    "            current = adj[current]\n",
    "        total_path = total_path[::-1] \n",
    "        out = []\n",
    "        for i in range(len(total_path)-1):\n",
    "            actor_1 = total_path[i]\n",
    "            actor_2 = total_path[i+1]\n",
    "            movie = graph.adj_list[actor_1][actor_2]\n",
    "            out.append(f\"{actor_1} -({movie})- {actor_2}\")\n",
    "        \n",
    "        return \"\\n\".join(out)\n",
    "    queue = deque([])\n",
    "    visited = {actor: False for actor in graph.vertices}\n",
    "    pred = {actor: None for actor in graph.vertices}\n",
    "    \n",
    "    visited[start] = True\n",
    "    queue.append(start)\n",
    "    # while queue is not empty\n",
    "    while queue:\n",
    "        # pop from queue\n",
    "        current = queue.popleft()\n",
    "        if(current == end):\n",
    "            return reconstruct_path(adj=pred, current=current)\n",
    "        for neighbor in graph.adj_list[current]:\n",
    "                if not visited[neighbor]:\n",
    "                    visited[neighbor] = True\n",
    "                    pred[neighbor] = current\n",
    "                    queue.append(neighbor)\n",
    "                \n",
    "    return reconstruct_path(adj=pred)\n",
    "     "
   ]
  },
  {
   "cell_type": "code",
   "execution_count": 33,
   "metadata": {},
   "outputs": [
    {
     "ename": "AssertionError",
     "evalue": "",
     "output_type": "error",
     "traceback": [
      "\u001b[1;31m---------------------------------------------------------------------------\u001b[0m",
      "\u001b[1;31mAssertionError\u001b[0m                            Traceback (most recent call last)",
      "Cell \u001b[1;32mIn[33], line 15\u001b[0m\n\u001b[0;32m     13\u001b[0m start, end \u001b[38;5;241m=\u001b[39m striped_param[\u001b[38;5;241m0\u001b[39m], striped_param[\u001b[38;5;241m1\u001b[39m]\n\u001b[0;32m     14\u001b[0m path \u001b[38;5;241m=\u001b[39m bfs(start\u001b[38;5;241m=\u001b[39mstart, end\u001b[38;5;241m=\u001b[39mend, graph\u001b[38;5;241m=\u001b[39mactor_graph)\n\u001b[1;32m---> 15\u001b[0m \u001b[38;5;28;01massert\u001b[39;00m(path \u001b[38;5;241m==\u001b[39m out)\n",
      "\u001b[1;31mAssertionError\u001b[0m: "
     ]
    }
   ],
   "source": [
    "actor_graph = graph()\n",
    "file_path = \"all_imdb_cleaned.txt\"\n",
    "process_credits_file_to_graph(actor_graph, file_path)\n",
    "\n",
    "input_file = \"more-input.txt\"\n",
    "output_file = \"more-output.txt\"\n",
    "\n",
    "input_parameters = open(input_file, 'r', encoding='utf-8')\n",
    "expected_output = open(output_file, 'r', encoding='utf-8')\n",
    "\n",
    "for param, out in zip(input_parameters, expected_output):\n",
    "    striped_param = param.strip().split()\n",
    "    start, end = striped_param[0], striped_param[1]\n",
    "    path = bfs(start=start, end=end, graph=actor_graph)\n",
    "    assert(path == out)\n",
    "\n",
    "\n"
   ]
  },
  {
   "cell_type": "code",
   "execution_count": null,
   "metadata": {},
   "outputs": [],
   "source": []
  }
 ],
 "metadata": {
  "kernelspec": {
   "display_name": ".venv",
   "language": "python",
   "name": "python3"
  },
  "language_info": {
   "codemirror_mode": {
    "name": "ipython",
    "version": 3
   },
   "file_extension": ".py",
   "mimetype": "text/x-python",
   "name": "python",
   "nbconvert_exporter": "python",
   "pygments_lexer": "ipython3",
   "version": "3.13.1"
  }
 },
 "nbformat": 4,
 "nbformat_minor": 2
}
