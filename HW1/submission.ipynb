{
 "cells": [
  {
   "cell_type": "markdown",
   "metadata": {},
   "source": [
    "# Homework 1: Six Degrees of Kevin Bacon\n",
    "\n",
    "Read [bfs_six_degrees.pdf](bfs_six_degrees.pdf) for the assignment spec. Submit this .ipynb to the professor to demonstrate your solution. This is unofficial and is maintained by a fellow student, Justin, aka the glizzy goblin."
   ]
  },
  {
   "cell_type": "code",
   "execution_count": 24,
   "metadata": {},
   "outputs": [],
   "source": [
    "from graph_tools import graph\n",
    "from collections import deque\n",
    "from random import sample"
   ]
  },
  {
   "cell_type": "code",
   "execution_count": 25,
   "metadata": {},
   "outputs": [],
   "source": [
    "# Helper Functions\n",
    "def process_credits_file_to_graph(graph:graph, file_path:str):\n",
    "    try:\n",
    "        with  open(file_path, 'r', encoding='utf-8') as list_edges:\n",
    "            for line in list_edges:\n",
    "                process_line(graph, line)\n",
    "    except FileNotFoundError:\n",
    "        print(f\"Error: was not able to find {file_path}\")\n",
    "    except UnicodeDecodeError as e:\n",
    "        print(f\"Encoding error while reading the file: {e}\")\n",
    "\n",
    "def process_line(graph:graph, line:str):\n",
    "    split_line = line.strip().split()\n",
    "    if not split_line: return\n",
    "    \n",
    "    movie_name, actors = split_line[0], split_line[1:]\n",
    "    \n",
    "    for actor_1 in actors:\n",
    "        co_stars = [actor for actor in actors if actor != actor_1]\n",
    "        for actor_2 in co_stars:\n",
    "            graph.Add_und_edge(actor_1, actor_2, movie_name)"
   ]
  },
  {
   "cell_type": "code",
   "execution_count": 26,
   "metadata": {},
   "outputs": [],
   "source": [
    "small_actor_graph = graph()\n",
    "small_file_path = \"smaller_imdb_cleaned.txt\"\n",
    "process_credits_file_to_graph(small_actor_graph, small_file_path)"
   ]
  },
  {
   "cell_type": "code",
   "execution_count": 27,
   "metadata": {},
   "outputs": [],
   "source": [
    "large_actor_graph = graph()\n",
    "large_actor_file = \"all_imdb_cleaned.txt\"\n",
    "process_credits_file_to_graph(large_actor_graph, large_actor_file)"
   ]
  },
  {
   "cell_type": "code",
   "execution_count": 28,
   "metadata": {},
   "outputs": [],
   "source": [
    "def format_output(merged_result:list):\n",
    "    if not merged_result: return \"No path found\"\n",
    "    out=\"\"\n",
    "    for i in range(len(merged_result)):\n",
    "        if i % 2 == 1:\n",
    "            out += f\"-({merged_result[i]})-\"\n",
    "            continue\n",
    "        out += merged_result[i]\n",
    "    return out"
   ]
  },
  {
   "cell_type": "markdown",
   "metadata": {},
   "source": [
    "**Vanilla BFS**"
   ]
  },
  {
   "cell_type": "code",
   "execution_count": 29,
   "metadata": {},
   "outputs": [],
   "source": [
    "from enum import Enum\n",
    "class BFS_RETURN_TYPE(Enum):\n",
    "    shortest_path = 1 # Return the shortest path from start to end.\n",
    "    level_set = 2 # Return the level sets (vertices grouped by distance).\n",
    "    connectivity = 3 # Return True/False if end is reachable from start.\n",
    "    edge_count = 4 #Return the total number of edges traversed.\n",
    "\n",
    "def reconstruct_path(adj, current, graph):\n",
    "        # reconstruct path from start to end given adjacency list        \n",
    "        total_path = []\n",
    "        while current in adj and current != None:\n",
    "            total_path.append(current)\n",
    "            current = adj[current]\n",
    "        total_path = total_path[::-1]\n",
    "        movies = [graph.adj_list[total_path[i]][total_path[i + 1]] for i in range(len(total_path) - 1)]\n",
    "        \n",
    "        # merge results between actor names and movie edges\n",
    "        merged_result = [item for pair in zip(total_path, movies) for item in pair]\n",
    "        merged_result.extend(total_path[len(movies):])\n",
    "\n",
    "        return merged_result\n",
    "\n",
    "def bfs(start:str, end:str, graph:graph):\n",
    "    \"\"\"\n",
    "    Perform BFS and return results based on the mode:\n",
    "    - \"shortest_path\": Return the shortest path from start to end.\n",
    "    - \"level_set\": Return the level sets (vertices grouped by distance).\n",
    "    - \"connectivity\": Return True/False if end is reachable from start.\n",
    "    - \"edge_count\": Return the total number of edges traversed.\n",
    "    \"\"\"\n",
    "    if start not in graph.vertices or end not in graph.vertices:\n",
    "        return \"Not present\"   \n",
    "\n",
    "    queue = deque([start])\n",
    "    visited = {actor: False for actor in graph.vertices}\n",
    "    pred = {actor: None for actor in graph.vertices}\n",
    "    level_set = {0:[start]}\n",
    "    # distances = {start: 0}\n",
    "    edge_count = 0\n",
    "    \n",
    "    visited[start] = True\n",
    "    \n",
    "    # while queue is not empty\n",
    "    while queue:\n",
    "        # pop from queue\n",
    "        current = queue.popleft()\n",
    "        # current_level = distances[current]\n",
    "\n",
    "        if(current == end):\n",
    "            return reconstruct_path(adj=pred, current=current, graph=graph)\n",
    "        for neighbor in graph.adj_list[current]:\n",
    "            edge_count += 1\n",
    "            if not visited[neighbor]:\n",
    "                visited[neighbor] = True\n",
    "                pred[neighbor] = current\n",
    "                # distances[neighbor] = current_level + 1\n",
    "                \n",
    "                queue.append(neighbor)\n",
    "               \n",
    "                \n",
    "    return \"Not present\"\n",
    "     "
   ]
  },
  {
   "cell_type": "markdown",
   "metadata": {},
   "source": [
    "**Bi-Directional BFS**"
   ]
  },
  {
   "cell_type": "code",
   "execution_count": 30,
   "metadata": {},
   "outputs": [],
   "source": [
    "# Refrenced https://www.geeksforgeeks.org/bidirectional-search/\n",
    "\n",
    "def reconstruct_bidi_path(start_pred:dict, end_pred:dict, start:str,end:str, mid:str, graph:graph):\n",
    "    \n",
    "\ttotal_path = []\n",
    "\tcurrent = mid\n",
    "\twhile current in start_pred and current != None:\n",
    "\t\ttotal_path.append(current)\n",
    "\t\tcurrent = start_pred[current]\n",
    "  \n",
    "\ttotal_path = total_path[::-1]\n",
    "\tcurrent = end_pred[mid]\n",
    " \n",
    "\twhile current in end_pred and current != None:\n",
    "\t\ttotal_path.append(current)\n",
    "\t\tcurrent = end_pred[current]\n",
    "\t\n",
    "\tmovies = [graph.adj_list[total_path[i]][total_path[i + 1]] for i in range(len(total_path) - 1)]\n",
    "\n",
    "\t# merge results between actor names and movie edges\n",
    "\tmerged_result = [item for pair in zip(total_path, movies) for item in pair]\n",
    "\tmerged_result.extend(total_path[len(movies):])\n",
    "\treturn merged_result\n",
    "\n",
    "def BiDi_BFS(start: str, end: str, graph: graph):\n",
    "\tif start not in graph.vertices or end not in graph.vertices:\n",
    "\t\treturn \"Not present\"\n",
    "\tstart_queue = deque([])\n",
    "\tend_queue = deque([])\n",
    "\n",
    "\t# initializes start and end visted nodes as false\n",
    "\tstart_visited = {actor: False for actor in graph.vertices}\n",
    "\tend_visited = {actor: False for actor in graph.vertices}\n",
    "\n",
    "\t#initialize start and end adj list\n",
    "\tstart_pred = {actor: None for actor in graph.vertices}\n",
    "\tend_pred = {actor: None for actor in graph.vertices}\n",
    "\t\n",
    "\tstart_queue.append(start)\n",
    "\tstart_visited[start] = True\n",
    " \n",
    "\tend_queue.append(end)\n",
    "\tend_visited[end] = True\n",
    "\t\n",
    "\twhile len(start_queue) > 0  and len(end_queue) > 0:\n",
    "\t\t# Forward BFS\n",
    "\t\tcurr_start = start_queue.popleft()\n",
    "\t\tfor neighbor in graph.adj_list[curr_start]:\n",
    "\t\t\tif not start_visited[neighbor]:\n",
    "\t\t\t\tstart_visited[neighbor] = True\n",
    "\t\t\t\tstart_pred[neighbor] = curr_start\n",
    "\t\t\t\tstart_queue.append(neighbor)\n",
    "\t\t\tif(end_visited[neighbor]): # intersection has been found\n",
    "\t\t\t\treturn reconstruct_bidi_path(start_pred, end_pred, start, end, neighbor, graph)\n",
    "\t\t\t\n",
    "\t\t# Backward BFS\n",
    "\t\tcurr_end = end_queue.popleft()\n",
    "\t\tfor neighbor in graph.adj_list[curr_end]:\n",
    "\t\t\tif not end_visited[neighbor]:\n",
    "\t\t\t\tend_visited[neighbor] = True\n",
    "\t\t\t\tend_pred[neighbor] = curr_end\n",
    "\t\t\t\tend_queue.append(neighbor)\n",
    "\t\t\tif(start_visited[neighbor]): # intersection has been found\n",
    "\t\t\t\treturn reconstruct_bidi_path(start_pred, end_pred, start, end, neighbor, graph)\n",
    "\t\n",
    "\treturn \"No Path Found\""
   ]
  },
  {
   "cell_type": "markdown",
   "metadata": {},
   "source": [
    "## What You Need to Find\n",
    "\n",
    "This section outlines the specific questions you need to answer. Ensure each question is addressed in a separate code block, with the output clearly presented as either text or visual plots.\n",
    "\n"
   ]
  },
  {
   "cell_type": "markdown",
   "metadata": {},
   "source": [
    "1. **Shortest Paths**: For each credits file, find the shortest paths for all the pairs provided in the example input files. Handle corner cases such as:\n",
    "   - An actor not being present in the graph.\n",
    "   - The source and destination actors not being connected.  \n",
    "   Output appropriate messages for these cases.\n",
    "\n"
   ]
  },
  {
   "cell_type": "code",
   "execution_count": 31,
   "metadata": {},
   "outputs": [
    {
     "name": "stdout",
     "output_type": "stream",
     "text": [
      "Small Credit Graph\n",
      "\n",
      "Brad_Pitt-(On_Location:_Fight_Club)-Edward_Norton-(The_Making_of_'The_Illusionist')-Jessica_Biel-(JT:_Reflections)-Justin_Timberlake-(Justin_Timberlake:_Justified_-_The_Videos)-Nelly-(Nelly_&_St._Lunatics:_Batter_Up)-Ali-(Khaidi_No._150)-Chiranjeevi-(Sye_Raa_Narasimha_Reddy)-Amitabh_Bachchan\n",
      "\n",
      "Brad_Pitt-(Moneyball:_Playing_the_Game)-Philip_Seymour_Hoffman-(The_Making_of_the_Mission)-Tom_Cruise\n",
      "\n",
      "Will_Smith-(Club_Oscar)-Martin_Scorsese-(Crossing_Criminal_Cultures)-Leonardo_DiCaprio-(Inception)-Ellen_Page\n",
      "\n",
      "Not present\n",
      "\n",
      "Not present\n",
      "\n",
      "Marion_Cotillard-(David_Bowie:_The_Next_Day)-Gary_Oldman-(State_of_Grace)-Ed_Harris-(NT2:_Evolution_of_a_Golden_City)-Nicolas_Cage-(The_Making_of_'Lord_of_War')-Ethan_Hawke\n",
      "\n",
      "Kevin_Bacon-(My_One_and_Only)-Renée_Zellweger-(Club_Oscar)-Robert_De_Niro-(International_Jazz_Day)-Tony_Bennett-(Artists_for_Haiti:_We_Are_the_World_25_for_Haiti)-Justin_Bieber\n",
      "\n",
      "Frank_Sinatra_Jr.-(Do_It_in_the_Dirt)-Suzan_Averitt-(The_Hitch-Hikers)-Patty_Duke-(Gifts_of_Greatness)-Edward_Asner-(The_Commission)-Martin_Sheen-(The_Double:_Interviews_with_the_Producers)-Stephen_Moyer-(Prince_Valiant)-Katherine_Heigl\n",
      "\n",
      "Michael_Cera-(Sundance_Skippy)-Kevin_Bacon-(Mystic_River:_Beneath_the_Surface)-Sean_Penn-(Spirit_Animal:_Making_'The_Indian_Runner')-Viggo_Mortensen\n",
      "\n"
     ]
    }
   ],
   "source": [
    "input_file = \"more-input.txt\"\n",
    "output_file = \"more-output.txt\"\n",
    "\n",
    "input_parameters = open(input_file, 'r', encoding='utf-8')\n",
    "expected_output = open(output_file, 'r', encoding='utf-8')\n",
    "\n",
    "print(\"Small Credit Graph\\n\")\n",
    "for param, out in zip(input_parameters, expected_output):\n",
    "    striped_param = param.strip().split()\n",
    "    start, end = striped_param[0], striped_param[1]\n",
    "    path = BiDi_BFS(start=start, end=end, graph=small_actor_graph)\n",
    "    if type(path)== str : print(f\"{path}\\n\")\n",
    "    else: print(f\"{format_output(path)}\\n\")"
   ]
  },
  {
   "cell_type": "code",
   "execution_count": null,
   "metadata": {},
   "outputs": [
    {
     "name": "stdout",
     "output_type": "stream",
     "text": [
      "Large Credit Graph\n",
      "\n",
      "Brad_Pitt-(The_Audition)-Leonardo_DiCaprio-(Louder_Together)-Amitabh_Bachchan\n",
      "\n",
      "Brad_Pitt-(Interview_with_the_Vampire:_The_Vampire_Chronicles)-Tom_Cruise\n",
      "\n",
      "Will_Smith-(Hancock)-Jason_Bateman-(Juno)-Ellen_Page\n",
      "\n",
      "Marilyn_Monroe-(Premier_Khrushchev_in_the_USA)-Kirk_Douglas-(Greedy)-Nancy_Travis-(Destiny_Turns_on_the_Radio)-Quentin_Tarantino\n",
      "\n",
      "Cassandra_Ciangherotti-(Viaje_redondo)-Teresa_Ruiz-(Prisoners_of_the_Ghostland)-Nicolas_Cage-(Adaptation.)-Meryl_Streep\n",
      "\n",
      "Marion_Cotillard-(A_Good_Year)-Albert_Finney-(Before_the_Devil_Knows_You're_Dead)-Ethan_Hawke\n",
      "\n",
      "Kevin_Bacon-(Queens_Logic)-John_Malkovich-(Zoolander_No._2:_Believe_in_Your_Selfie)-Justin_Bieber\n",
      "\n",
      "Frank_Sinatra_Jr.-(Aru_heishi_no_kake)-Toshirô_Mifune-(Shadow_of_the_Wolf)-Jennifer_Tilly-(Bride_of_Chucky)-Katherine_Heigl\n",
      "\n",
      "Michael_Cera-(Gloria_Bell)-Julianne_Moore-(Psycho)-Viggo_Mortensen\n",
      "\n"
     ]
    }
   ],
   "source": [
    "input_file = \"more-input.txt\"\n",
    "output_file = \"more-output.txt\"\n",
    "\n",
    "input_parameters = open(input_file, 'r', encoding='utf-8')\n",
    "expected_output = open(output_file, 'r', encoding='utf-8')\n",
    "\n",
    "print(\"Large Credit Graph\\n\")\n",
    "for param, out in zip(input_parameters, expected_output):\n",
    "    striped_param = param.strip().split()\n",
    "    start, end = striped_param[0], striped_param[1]\n",
    "    path = BiDi_BFS(start=start, end=end, graph=large_actor_graph)\n",
    "    if type(path)== str : print(f\"{path}\\n\")\n",
    "    else: print(f\"{format_output(path)}\\n\")\n",
    "    "
   ]
  },
  {
   "cell_type": "markdown",
   "metadata": {},
   "source": [
    "2. **Interesting Paths**: Identify and include some interesting shortest paths discovered in either credits file.\n"
   ]
  },
  {
   "cell_type": "code",
   "execution_count": 33,
   "metadata": {},
   "outputs": [
    {
     "name": "stdout",
     "output_type": "stream",
     "text": [
      "Victor_Steinbach Sam_Wilson\n",
      "Small actor graph output: Not present\n",
      "\n",
      "Liza_Harper Patrick_Selinger\n",
      "Small actor graph output: Not present\n",
      "\n",
      "Thomas_Aitken Canyon_James\n",
      "Small actor graph output:Thomas_Aitken-(The_Missing_Jewels)-Mae_Hotely-(Building_a_Fire)-Oliver_Hardy-(Rivals)-Billy_West-(Mad_Dash_Racing)-Charles_Martinet-(Mario_Kart_Wii)-Samantha_Kelly-(MySims_SkyHeroes)-Michael_McMillian-(The_Arrival)-Elias_Harger-(Neverland)-Nick_Ziegler-(Spill_the_Tea)-Canyon_James\n",
      "\n",
      "Vincent_Tjong Kevin_A._Walton\n",
      "Small actor graph output:Vincent_Tjong-(Serene)-Emma_McWilliams-(Recovery)-Joshua_Adkins-(Eugene)-Matt_Crabtree-(Corpse_Run)-Jen_Nikolaisen-(Booth_Girls)-Kelsey_Crane-(Lost_Music)-Nicholas_Gonzalez-(SuperVillains)-Nicholas_Simmons-(Work_of_Art)-Kevin_A._Walton\n",
      "\n",
      "Benedict_Ives David_Ellenstein\n",
      "Small actor graph output: Not present\n",
      "\n",
      "Alexa_Gabrielle_Ramirez Brendan_Fallon\n",
      "Small actor graph output:Alexa_Gabrielle_Ramirez-(Darker_by_the_Minute)-Brett_Bentman-(Ash)-Johnny_Walter-(Witch)-Jeannie_Carter-Cruz-(Hot_Tub)-Elizabeth_Maxwell-(Barely_Legal)-Dan_Pacheco-(Whore)-Corina_Boettger-(Mr._Swan)-Ed_Baccari-(Island,_Alicia)-Kim_Beuché-(Miles_Away)-Brendan_Fallon\n",
      "\n",
      "Sandy_Johnson Sydney_Steinberg\n",
      "Small actor graph output:Sandy_Johnson-(I_Stand_Here_Ironing)-Denise_Lorraine-(Diamond_and_Sphinx)-Chris_Cory-(Diva_Dog:_Pit_Bull_on_Wheels)-Linda_Blair-(Whoa!)-Leslie_Jordan-(Strangers_in_a_Strange_Land)-Kimberley_Crossman-(Bad_Fruit)-Katie_Wilbert-(The_Ceiling)-Kaitlyn_Tanimoto-(Feminist_Campfire_Stories)-Sydney_Steinberg\n",
      "\n",
      "Kayla_Bergstrom Sabina_Olmos\n",
      "Small actor graph output: Not present\n",
      "\n",
      "Dusty_Aunan Jimmy_Cintron\n",
      "Small actor graph output:Dusty_Aunan-(Split_Rail)-Essa_O'Shea-(Mercy)-Daniel_Ahearn-(No_Love_Song)-Rosanna_Arquette-(You_Cannot_Kill_David_Arquette)-Luke_Perry-(Black_Beauty)-Bruce_Davison-(Coffin)-Johnny_Alonso-(The_Wright_Family)-Adam_Ginsberg-(Mr._Kiss)-Jimmy_Cintron\n",
      "\n",
      "Paul_Kelleher Tom_Massmann\n",
      "Small actor graph output:Paul_Kelleher-(Behind_the_Spirits:_The_Making_of_'Spirits_of_the_Fall')-Rami_Hilmi-(Tortured)-Amber_Lee-(Unspoken)-Ralph_Smith-(Cereal?)-Sandra_Scragg-(Glitch)-Maeve_Campbell-(A_Matter_of_Prejudice)-Forrest_Campbell-(Potato_Dreams_of_America)-Dan_Lauria-(Here's_the_Kicker)-Sarah_Smick-(When_Will_Tomorrow_End?)-Philippe_Debaty-(Emma)-Heather_J._Ryan-(Taken_Away)-Tom_Massmann\n",
      "\n"
     ]
    }
   ],
   "source": [
    "NUM_OF_ACTORS = 20\n",
    "sub_set_actors = sample(list(small_actor_graph.vertices), NUM_OF_ACTORS)\n",
    "\n",
    "mid_index = len(sub_set_actors) // 2  \n",
    "sub_set_actors_1 = sub_set_actors[:mid_index]\n",
    "sub_set_actors_2 = sub_set_actors[mid_index:]\n",
    "\n",
    "for actor_1, actor_2 in zip(sub_set_actors_1, sub_set_actors_2):\n",
    "    print(f\"{actor_1} {actor_2}\")\n",
    "    path = bfs(start=actor_1, end=actor_2, graph=small_actor_graph)\n",
    "    if type(path)== str : print(f\"Small actor graph output: {path}\\n\")\n",
    "    else: print(f\"Small actor graph output:{format_output(path)}\\n\")\n",
    "        "
   ]
  },
  {
   "cell_type": "markdown",
   "metadata": {},
   "source": [
    "\n",
    "3. **Path Differences**: Analyze how the shortest paths differ between the same vertex pairs across both credits files. Highlight cases where one file leads to shorter paths. Use random pairs to demonstrate the differences.\n"
   ]
  },
  {
   "cell_type": "code",
   "execution_count": 34,
   "metadata": {},
   "outputs": [
    {
     "name": "stdout",
     "output_type": "stream",
     "text": [
      "Large actor graph output:Victor_Steinbach-(Quiet_Thunder)-Wayne_Crawford-(Jake_Speed)-Dennis_Christopher-(Breaking_Away)-Dennis_Quaid-(Cold_Creek_Manor:_Alternate_Ending)-Ryan_Wilson-(Saren)-Sam_Wilson\n",
      "\n",
      "\n",
      "Large actor graph output:Liza_Harper-(Do_the_Macarena)-Selena-(Selena:_Greatest_Hits)-Jennifer_Lopez-(Style_as_Substance:_Reflections_on_Tarsem)-Vincent_D'Onofrio-(It_Don't_Pay_to_Be_an_Honest_Citizen)-William_Rice-(Seduction_of_Patrick)-Patrick_Selinger\n",
      "\n",
      "\n",
      "Large actor graph output:Thomas_Aitken-(The_Missing_Jewels)-Mae_Hotely-(She_Must_Elope)-Spottiswoode_Aitken-(The_Angel_of_Contention)-George_Siegmann-(Grafters)-Irene_Leonard-(Public_Service_Announcement)-Ashley_Leanne_Somers-(Spill_the_Tea)-Canyon_James\n",
      "\n",
      "\n",
      "Large actor graph output:Vincent_Tjong-(Serene)-Abbey_Fernandez-(1321)-Cameron_Hayes-(Don't_Be_Scared_Homie)-David_Alan_Graf-(The_Inconsistencies_of_Jonathon_Finch)-Sean_Hoagland-(The_Girl_in_the_Mirror)-Natalia_Brea-(Work_of_Art)-Kevin_A._Walton\n",
      "\n",
      "\n",
      "Large actor graph output:Benedict_Ives-(Tall_Trees)-Amelia_Barrett-(West_from_North_Goes_South)-Phyllis_Diller-(The_Nuttiest_Nutcracker)-Cheech_Marin-(Americano)-Rico_Rodriguez-(The_Exiles)-Tom_Reynolds-(Ring_of_Fire)-Stephanie_Bettman-(One_Thousand_Senses)-David_Ellenstein\n",
      "\n",
      "\n",
      "Large actor graph output:Alexa_Gabrielle_Ramirez-(Darker_by_the_Minute)-Brett_Bentman-(The_Calm_Before)-Elizabeth_Tabish-(The_Method_of_Places)-David_Lee_Hess-(River_Gold)-Kim_Beuché-(Miles_Away)-Brendan_Fallon\n",
      "\n",
      "\n",
      "Large actor graph output:Sandy_Johnson-(Love_Soup:_On_Location)-Adam_Young-(Premonition:_A_Bedtime_Story)-Cassandra_Cardenes-(Repetition_is_Poetic)-Siaka_Massaquoi-(The_Greatest_Question_Facing_the_Future_of_Science_and_Robotics)-Sydney_Steinberg\n",
      "\n",
      "\n",
      "Large actor graph output:Kayla_Bergstrom-(Rhyme_Sublime)-Matthew_Clark-(Dead_Man_Falls)-David_Brown-(All_of_What_Follows_Is_True:_The_Making_of_'Butch_Cassidy_and_the_Sundance_Kid')-Paul_Newman-(The_Secret_War_of_Harry_Frigg)-Sylva_Koscina-(Monnaie_de_singe)-Alberto_Closas-(Tierra_del_fuego)-Sabina_Olmos\n",
      "\n",
      "\n",
      "Large actor graph output:Dusty_Aunan-(Split_Rail)-Essa_O'Shea-(Re/collection)-Josh_Kelly-(Alone)-Bruce_Davison-(Coffin)-Johnny_Alonso-(The_Wright_Family)-Adam_Ginsberg-(Mr._Kiss)-Jimmy_Cintron\n",
      "\n",
      "\n",
      "Large actor graph output:Paul_Kelleher-(Altered_Memories)-Oris_Erhuero-(Lotta)-A.J._Draven-(The_Thirst:_Blood_War)-Tony_Todd-(The_Gospel_According_to_Stephenson)-Jessica_Duffy-(Cue_the_Background)-Tom_Massmann\n",
      "\n",
      "\n"
     ]
    }
   ],
   "source": [
    "\n",
    "for actor_1, actor_2 in zip(sub_set_actors_1, sub_set_actors_2):\n",
    "    path = bfs(start=actor_1, end=actor_2, graph=large_actor_graph)\n",
    "    if type(path)== str : print(f\"Large actor graph output: {path}\\n\")\n",
    "    else: print(f\"Large actor graph output:{format_output(path)}\\n\\n\")\n",
    "        "
   ]
  },
  {
   "cell_type": "markdown",
   "metadata": {},
   "source": [
    "\n",
    "4. **Kevin Bacon's Level Sets**: For Kevin Bacon or other notable starting actors, calculate the sizes of the level sets (sets of vertices at distance 1, 2, 3, etc.). Present the results in a plot.\n"
   ]
  },
  {
   "cell_type": "markdown",
   "metadata": {},
   "source": [
    "\n",
    "5. **Connected Components**: Determine the sizes of the connected components in each graph.\n"
   ]
  },
  {
   "cell_type": "markdown",
   "metadata": {},
   "source": [
    "\n",
    "6. **Edge Count Comparison**: Compare the number of edges traversed between vanilla BFS and Bidirectional BFS (Bi-BFS) for the pairs in the example input files. Include your own generated examples in this comparison.\n"
   ]
  },
  {
   "cell_type": "markdown",
   "metadata": {},
   "source": [
    "\n",
    "7. **Wall-Clock Time**: Measure and compare the actual running times of BFS and Bi-BFS using the `timeit` module in Python. Provide wall-clock time data for the pairs in the example input files, as well as your own examples.\n"
   ]
  },
  {
   "cell_type": "code",
   "execution_count": null,
   "metadata": {},
   "outputs": [],
   "source": [
    "import timeit\n",
    "\n",
    "\n",
    "def compare_algorithm_time():\n",
    "\n",
    "\tbfs_time = timeit.timeit(lambda : bfs(), number=100)\n",
    "\tbi_bfs_time = timeit.timeit()\n",
    "\treturn "
   ]
  }
 ],
 "metadata": {
  "kernelspec": {
   "display_name": ".venv",
   "language": "python",
   "name": "python3"
  },
  "language_info": {
   "codemirror_mode": {
    "name": "ipython",
    "version": 3
   },
   "file_extension": ".py",
   "mimetype": "text/x-python",
   "name": "python",
   "nbconvert_exporter": "python",
   "pygments_lexer": "ipython3",
   "version": "3.11.1"
  }
 },
 "nbformat": 4,
 "nbformat_minor": 2
}
