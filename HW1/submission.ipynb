{
 "cells": [
  {
   "cell_type": "markdown",
   "metadata": {},
   "source": [
    "# Homework 1: Six Degrees of Kevin Bacon\n",
    "\n",
    "Read [bfs_six_degrees.pdf](bfs_six_degrees.pdf) for the assignment spec. Submit this .ipynb to the professor to demonstrate your solution. This is unofficial and is maintained by a fellow student, Justin, aka the glizzy goblin."
   ]
  },
  {
   "cell_type": "code",
   "execution_count": 5,
   "metadata": {},
   "outputs": [],
   "source": [
    "from graph_tools import graph\n",
    "from collections import deque\n",
    "from random import sample\n",
    "from timeit import timeit\n",
    "import matplotlib.pyplot as plt"
   ]
  },
  {
   "cell_type": "code",
   "execution_count": 6,
   "metadata": {},
   "outputs": [],
   "source": [
    "# Helper Functions\n",
    "def process_credits_file_to_graph(graph:graph, file_path:str):\n",
    "    try:\n",
    "        with  open(file_path, 'r', encoding='utf-8') as list_edges:\n",
    "            for line in list_edges:\n",
    "                process_line(graph, line)\n",
    "    except FileNotFoundError:\n",
    "        print(f\"Error: was not able to find {file_path}\")\n",
    "    except UnicodeDecodeError as e:\n",
    "        print(f\"Encoding error while reading the file: {e}\")\n",
    "\n",
    "def process_line(graph:graph, line:str):\n",
    "    split_line = line.strip().split()\n",
    "    if not split_line: return\n",
    "    \n",
    "    movie_name, actors = split_line[0], split_line[1:]\n",
    "    \n",
    "    for actor_1 in actors:\n",
    "        co_stars = [actor for actor in actors if actor != actor_1]\n",
    "        for actor_2 in co_stars:\n",
    "            graph.Add_und_edge(actor_1, actor_2, movie_name)"
   ]
  },
  {
   "cell_type": "code",
   "execution_count": 7,
   "metadata": {},
   "outputs": [],
   "source": [
    "small_actor_graph = graph()\n",
    "small_file_path = \"smaller_imdb_cleaned.txt\"\n",
    "process_credits_file_to_graph(small_actor_graph, small_file_path)"
   ]
  },
  {
   "cell_type": "code",
   "execution_count": 8,
   "metadata": {},
   "outputs": [],
   "source": [
    "large_actor_graph = graph()\n",
    "large_actor_file = \"all_imdb_cleaned.txt\"\n",
    "process_credits_file_to_graph(large_actor_graph, large_actor_file)"
   ]
  },
  {
   "cell_type": "code",
   "execution_count": 9,
   "metadata": {},
   "outputs": [],
   "source": [
    "def format_output(merged_result:list):\n",
    "    if not merged_result: return \"No path found\"\n",
    "    out=\"\"\n",
    "    for i in range(len(merged_result)):\n",
    "        if i % 2 == 1:\n",
    "            out += f\"-({merged_result[i]})-\"\n",
    "            continue\n",
    "        out += merged_result[i]\n",
    "    return out"
   ]
  },
  {
   "cell_type": "markdown",
   "metadata": {},
   "source": [
    "**Vanilla BFS**"
   ]
  },
  {
   "cell_type": "code",
   "execution_count": 12,
   "metadata": {},
   "outputs": [],
   "source": [
    "def reconstruct_path(adj, current, graph, merged: bool):\n",
    "        # reconstruct path from start to end given adjacency list        \n",
    "        total_path = []\n",
    "        while current in adj and current != None:\n",
    "            total_path.append(current)\n",
    "            current = adj[current]\n",
    "        total_path = total_path[::-1]\n",
    "        movies = [graph.adj_list[total_path[i]][total_path[i + 1]] for i in range(len(total_path) - 1)]\n",
    "        \n",
    "        # merge results between actor names and movie edges\n",
    "        if merged:\n",
    "            merged_result = [item for pair in zip(total_path, movies) for item in pair]\n",
    "            merged_result.extend(total_path[len(movies):])\n",
    "            return merged_result\n",
    "        \n",
    "        return total_path, movies\n",
    "\n",
    "def bfs(start:str, end:str, graph:graph, merged:bool):\n",
    "    \"\"\"\n",
    "    Perform BFS and return results based on the mode:\n",
    "    - \"shortest_path\": Return the shortest path from start to end.\n",
    "    - \"level_set\": Return the level sets (vertices grouped by distance).\n",
    "    - \"connectivity\": Return True/False if end is reachable from start.\n",
    "    - \"edge_count\": Return the total number of edges traversed.\n",
    "    \"\"\"\n",
    "    if start not in graph.vertices:\n",
    "        return \"Not Present\" \n",
    "    if end != None and end not in graph.vertices:\n",
    "        return \"Not Present\"  \n",
    "\n",
    "    queue = deque([start])\n",
    "    visited = {actor: False for actor in graph.vertices}\n",
    "    pred = {actor: None for actor in graph.vertices}\n",
    "    # level_set = {0:[start]}\n",
    "    # distances = {start: 0}\n",
    "    count = 0\n",
    "    \n",
    "    visited[start] = True\n",
    "    \n",
    "    # while queue is not empty\n",
    "    while queue:\n",
    "        # pop from queue\n",
    "        current = queue.popleft()\n",
    "        # current_level = distances[current]\n",
    "\n",
    "        if(current == end and end != None):\n",
    "            return reconstruct_path(adj=pred, current=current, graph=graph, merged=merged)\n",
    "\n",
    "        for neighbor in graph.adj_list[current]:    \n",
    "            if not visited[neighbor]:\n",
    "                visited[neighbor] = True\n",
    "                pred[neighbor] = current\n",
    "                # distances[neighbor] = current_level + 1\n",
    "                count += 1\n",
    "                queue.append(neighbor)\n",
    "               \n",
    "                \n",
    "    return \"Not present\" if end != None else count\n",
    "     "
   ]
  },
  {
   "cell_type": "markdown",
   "metadata": {},
   "source": [
    "**Bi-Directional BFS**"
   ]
  },
  {
   "cell_type": "code",
   "execution_count": 13,
   "metadata": {},
   "outputs": [],
   "source": [
    "# Refrenced https://www.geeksforgeeks.org/bidirectional-search/\n",
    "\n",
    "def reconstruct_bidi_path(start_pred:dict, end_pred:dict, start:str,end:str, mid:str, graph:graph, merged: bool):\n",
    "    \n",
    "\ttotal_path = []\n",
    "\tcurrent = mid\n",
    "\twhile current in start_pred and current != None:\n",
    "\t\ttotal_path.append(current)\n",
    "\t\tcurrent = start_pred[current]\n",
    "  \n",
    "\ttotal_path = total_path[::-1]\n",
    "\tcurrent = end_pred[mid]\n",
    " \n",
    "\twhile current in end_pred and current != None:\n",
    "\t\ttotal_path.append(current)\n",
    "\t\tcurrent = end_pred[current]\n",
    "\t\n",
    "\tmovies = [graph.adj_list[total_path[i]][total_path[i + 1]] for i in range(len(total_path) - 1)]\n",
    "\tif merged :\n",
    "\t\t# merge results between actor names and movie edges\n",
    "\t\tmerged_result = [item for pair in zip(total_path, movies) for item in pair]\n",
    "\t\tmerged_result.extend(total_path[len(movies):])\n",
    "\t\treturn merged_result\n",
    "\treturn total_path, movies\n",
    "\n",
    "def BiDi_BFS(start: str, end: str, graph: graph, merged:bool):\n",
    "\tif start not in graph.vertices or end not in graph.vertices:\n",
    "\t\treturn \"Not present\"\n",
    "\tstart_queue = deque([])\n",
    "\tend_queue = deque([])\n",
    "\n",
    "\t# initializes start and end visted nodes as false\n",
    "\tstart_visited = {actor: False for actor in graph.vertices}\n",
    "\tend_visited = {actor: False for actor in graph.vertices}\n",
    "\n",
    "\t#initialize start and end adj list\n",
    "\tstart_pred = {actor: None for actor in graph.vertices}\n",
    "\tend_pred = {actor: None for actor in graph.vertices}\n",
    "\t\n",
    "\tstart_queue.append(start)\n",
    "\tstart_visited[start] = True\n",
    " \n",
    "\tend_queue.append(end)\n",
    "\tend_visited[end] = True\n",
    "\t\n",
    "\twhile len(start_queue) > 0  and len(end_queue) > 0:\n",
    "\t\t# Forward BFS\n",
    "\t\tcurr_start = start_queue.popleft()\n",
    "\t\tfor neighbor in graph.adj_list[curr_start]:\n",
    "\t\t\tif not start_visited[neighbor]:\n",
    "\t\t\t\tstart_visited[neighbor] = True\n",
    "\t\t\t\tstart_pred[neighbor] = curr_start\n",
    "\t\t\t\tstart_queue.append(neighbor)\n",
    "\t\t\tif(end_visited[neighbor]): # intersection has been found\n",
    "\t\t\t\treturn reconstruct_bidi_path(start_pred, end_pred, start, end, neighbor, graph, merged)\n",
    "\t\t\t\n",
    "\t\t# Backward BFS\n",
    "\t\tcurr_end = end_queue.popleft()\n",
    "\t\tfor neighbor in graph.adj_list[curr_end]:\n",
    "\t\t\tif not end_visited[neighbor]:\n",
    "\t\t\t\tend_visited[neighbor] = True\n",
    "\t\t\t\tend_pred[neighbor] = curr_end\n",
    "\t\t\t\tend_queue.append(neighbor)\n",
    "\t\t\tif(start_visited[neighbor]): # intersection has been found\n",
    "\t\t\t\treturn reconstruct_bidi_path(start_pred, end_pred, start, end, neighbor, graph, merged)\n",
    "\t\n",
    "\treturn \"No Path Found\""
   ]
  },
  {
   "cell_type": "markdown",
   "metadata": {},
   "source": [
    "## What You Need to Find\n",
    "\n",
    "This section outlines the specific questions you need to answer. Ensure each question is addressed in a separate code block, with the output clearly presented as either text or visual plots.\n",
    "\n"
   ]
  },
  {
   "cell_type": "markdown",
   "metadata": {},
   "source": [
    "1. **Shortest Paths**: For each credits file, find the shortest paths for all the pairs provided in the example input files. Handle corner cases such as:\n",
    "   - An actor not being present in the graph.\n",
    "   - The source and destination actors not being connected.  \n",
    "   Output appropriate messages for these cases.\n",
    "\n"
   ]
  },
  {
   "cell_type": "code",
   "execution_count": null,
   "metadata": {},
   "outputs": [],
   "source": [
    "input_file = \"more-input.txt\"\n",
    "output_file = \"more-output.txt\"\n",
    "\n",
    "input_parameters = open(input_file, 'r', encoding='utf-8')\n",
    "expected_output = open(output_file, 'r', encoding='utf-8')\n",
    "\n",
    "print(\"Small Credit Graph\\n\")\n",
    "for param, out in zip(input_parameters, expected_output):\n",
    "    striped_param = param.strip().split()\n",
    "    start, end = striped_param[0], striped_param[1]\n",
    "    path = BiDi_BFS(start=start, end=end, graph=small_actor_graph, merged=False)\n",
    "    if type(path)== str : print(f\"{path}\\n\")\n",
    "    else: print(f\"{format_output(path)}\\n\")\n",
    "\n",
    "input_parameters.close()\n",
    "expected_output.close()"
   ]
  },
  {
   "cell_type": "code",
   "execution_count": null,
   "metadata": {},
   "outputs": [],
   "source": [
    "input_file = \"more-input.txt\"\n",
    "output_file = \"more-output.txt\"\n",
    "\n",
    "input_parameters = open(input_file, 'r', encoding='utf-8')\n",
    "expected_output = open(output_file, 'r', encoding='utf-8')\n",
    "\n",
    "print(\"Large Credit Graph\\n\")\n",
    "for param, out in zip(input_parameters, expected_output):\n",
    "    striped_param = param.strip().split()\n",
    "    start, end = striped_param[0], striped_param[1]\n",
    "    path = BiDi_BFS(start=start, end=end, graph=large_actor_graph, merged=False)\n",
    "    if type(path)== str : print(f\"{path}\\n\")\n",
    "    else: print(f\"{format_output(path)}\\n\")\n",
    "\n",
    "input_parameters.close()\n",
    "expected_output.close()"
   ]
  },
  {
   "cell_type": "markdown",
   "metadata": {},
   "source": [
    "2. **Interesting Paths**: Identify and include some interesting shortest paths discovered in either credits file.\n"
   ]
  },
  {
   "cell_type": "code",
   "execution_count": null,
   "metadata": {},
   "outputs": [],
   "source": [
    "NUM_OF_ACTORS = 20\n",
    "sub_set_actors = sample(list(small_actor_graph.vertices), NUM_OF_ACTORS)\n",
    "\n",
    "mid_index = len(sub_set_actors) // 2  \n",
    "sub_set_actors_1 = sub_set_actors[:mid_index]\n",
    "sub_set_actors_2 = sub_set_actors[mid_index:]\n",
    "\n",
    "\n",
    "for actor_1, actor_2 in zip(sub_set_actors_1, sub_set_actors_2):\n",
    "    print(f\"{actor_1} {actor_2}\")\n",
    "    path = bfs(start=actor_1, end=actor_2, graph=small_actor_graph, merged=False)\n",
    "    if type(path)== str : print(f\"Small actor graph output: {path}\\n\")\n",
    "    else: print(f\"Small actor graph output:{format_output(path)}\\n\")\n",
    "\n",
    "for actor_1, actor_2 in zip(sub_set_actors_1, sub_set_actors_2):\n",
    "    print(f\"{actor_1} {actor_2}\")\n",
    "    path = bfs(start=actor_1, end=actor_2, graph=large_actor_graph, merged=False)\n",
    "    if type(path)== str : print(f\"Large actor graph output: {path}\\n\")\n",
    "    else: print(f\"Large actor graph output:{format_output(path)}\\n\\n\")\n",
    "        "
   ]
  },
  {
   "cell_type": "code",
   "execution_count": null,
   "metadata": {},
   "outputs": [],
   "source": [
    "import matplotlib.pyplot as plt\n",
    "from collections import deque\n",
    "\n",
    "# Function to compute shortest paths from a given start vertex\n",
    "def compute_shortest_paths(graph, start):\n",
    "    visited = {v: False for v in graph.vertices}\n",
    "    distance = {v: float('inf') for v in graph.vertices}\n",
    "    count_paths = {v: 0 for v in graph.vertices}  # Number of shortest paths to each vertex\n",
    "\n",
    "    queue = deque([start])\n",
    "    visited[start] = True\n",
    "    distance[start] = 0\n",
    "    count_paths[start] = 1\n",
    "\n",
    "    while queue:\n",
    "        current = queue.popleft()\n",
    "        for neighbor in graph.adj_list[current]:\n",
    "            # If visiting a node for the first time\n",
    "            if not visited[neighbor]:\n",
    "                visited[neighbor] = True\n",
    "                distance[neighbor] = distance[current] + 1\n",
    "                queue.append(neighbor)\n",
    "            # If another shortest path to the neighbor is found\n",
    "            if distance[neighbor] == distance[current] + 1:\n",
    "                count_paths[neighbor] += count_paths[current]\n",
    "\n",
    "    return count_paths\n",
    "\n",
    "# Function to compute the total number of shortest paths for a graph\n",
    "def total_shortest_paths(graph):\n",
    "    total_paths = 0\n",
    "    for vertex in graph.vertices:\n",
    "        paths = compute_shortest_paths(graph, vertex)\n",
    "        total_paths += sum(paths.values())  # Add all shortest paths from this vertex\n",
    "    return total_paths\n",
    "\n",
    "# Function to plot degree distribution\n",
    "def plot_degree_distribution(graph, title):\n",
    "    vertices = list(graph.vertices)\n",
    "    degrees = [len(graph.adj_list[v]) for v in vertices]  # Degree of each vertex\n",
    "\n",
    "    plt.bar(vertices, degrees)\n",
    "    plt.xlabel(\"Vertex\")\n",
    "    plt.ylabel(\"Degree\")\n",
    "    plt.title(title)\n",
    "    plt.xticks(rotation=90)\n",
    "    plt.tight_layout()\n",
    "    plt.show()\n",
    "\n",
    "# Main execution\n",
    "if __name__ == \"__main__\":\n",
    "    # Load graphs\n",
    "    graph1 = graph()\n",
    "    graph2 = graph()\n",
    "\n",
    "    # Example: Read edges from files (replace with actual file paths)\n",
    "    graph1.Read_edges(\"graph1_edges.txt\")\n",
    "    graph2.Read_edges(\"graph2_edges.txt\")\n",
    "\n",
    "    # Compute total number of shortest paths\n",
    "    total_paths_graph1 = total_shortest_paths(graph1)\n",
    "    total_paths_graph2 = total_shortest_paths(graph2)\n",
    "\n",
    "    print(f\"Total number of shortest paths in Graph 1: {total_paths_graph1}\")\n",
    "    print(f\"Total number of shortest paths in Graph 2: {total_paths_graph2}\")\n",
    "\n",
    "    # Plot degree distributions\n",
    "    plot_degree_distribution(graph1, \"Graph 1 Degree Distribution\")\n",
    "    plot_degree_distribution(graph2, \"Graph 2 Degree Distribution\")\n"
   ]
  },
  {
   "cell_type": "markdown",
   "metadata": {},
   "source": [
    "\n",
    "3. **Path Differences**: Analyze how the shortest paths differ between the same vertex pairs across both credits files. Highlight cases where one file leads to shorter paths. Use random pairs to demonstrate the differences.\n"
   ]
  },
  {
   "cell_type": "markdown",
   "metadata": {},
   "source": [
    "Notably some of the shortest path using both credit files vary as when using the all_imbd_cleaned.txt there tend to be two vertices with shorter path in comparison the smaller_imbd_cleaned.txt. As well, that form some vertices pairs they don't exist path between them on the small graph(smaller credit file), but often there is one using the large graph(larger credit file). One Two primary example of this are the path between Brad_Pitt -> Amitabh_Bachchan is eight nodes long on the small graph, but on the larger graph it's three nodes. As well with Marilyn_Monroe and Quentin_Tarantino there exists no path between them on the smaller graph, but there is a path on the larger graph."
   ]
  },
  {
   "cell_type": "markdown",
   "metadata": {},
   "source": [
    "\n",
    "4. **Kevin Bacon's Level Sets**: For Kevin Bacon or other notable starting actors, calculate the sizes of the level sets (sets of vertices at distance 1, 2, 3, etc.). Present the results in a plot.\n"
   ]
  },
  {
   "cell_type": "code",
   "execution_count": 19,
   "metadata": {},
   "outputs": [],
   "source": [
    "from collections import deque, defaultdict\n",
    "\n",
    "def compute_level_sets(graph:graph, start:str):\n",
    "    \"\"\"\n",
    "    Compute level sets from a starting vertex using BFS.\n",
    "\n",
    "    Parameters:\n",
    "        graph (dict): Adjacency list representation of the graph.\n",
    "        start (str): Starting vertex.\n",
    "\n",
    "    Returns:\n",
    "        dict: A dictionary where keys are levels (distances) and values are sets of vertices at that level.\n",
    "    \"\"\"\n",
    "    visited = set()\n",
    "    queue = deque([start])\n",
    "    level_sets = defaultdict(set)\n",
    "    distances = {start: 0}\n",
    "    visited.add(start)\n",
    "\n",
    "    while queue:\n",
    "        current = queue.popleft()\n",
    "        current_level = distances[current]\n",
    "        level_sets[current_level].add(current)\n",
    "\n",
    "        for neighbor in graph.adj_list[current]:\n",
    "            if neighbor not in visited:\n",
    "                visited.add(neighbor)\n",
    "                distances[neighbor] = current_level + 1\n",
    "                queue.append(neighbor)\n",
    "\n",
    "    return dict(level_sets)"
   ]
  },
  {
   "cell_type": "code",
   "execution_count": 15,
   "metadata": {},
   "outputs": [],
   "source": [
    "def plot_level_set(level_set: dict, actor_name: str):\n",
    "    levels = sorted(level_set.keys())\n",
    "    sizes = [len(level_set[level]) for level in levels]\n",
    "    \n",
    "    plt.figure(figsize=(10,8))\n",
    "    plt.bar(levels, sizes, color=\"red\")\n",
    "    plt.xlabel(\"Distance (Level)\")\n",
    "    plt.ylabel(\"Number of Actors\")\n",
    "    plt.title(f\"Level Set Sizes for {actor_name}\")\n",
    "    plt.xticks(levels)\n",
    "    plt.grid(axis='y', linestyle='--', alpha=0.7)\n",
    "    plt.show()  "
   ]
  },
  {
   "cell_type": "code",
   "execution_count": 20,
   "metadata": {},
   "outputs": [
    {
     "name": "stdout",
     "output_type": "stream",
     "text": [
      "Level Set Graph for Small actor graph\n"
     ]
    },
    {
     "data": {
      "image/png": "[encoded data removed]",
      "text/plain": [
       "<Figure size 1000x800 with 1 Axes>"
      ]
     },
     "metadata": {},
     "output_type": "display_data"
    },
    {
     "name": "stdout",
     "output_type": "stream",
     "text": [
      "\n",
      "\n",
      "Level Set Graph for Small actor graph\n"
     ]
    },
    {
     "data": {
      "image/png": "[encoded data removed]",
      "text/plain": [
       "<Figure size 1000x800 with 1 Axes>"
      ]
     },
     "metadata": {},
     "output_type": "display_data"
    }
   ],
   "source": [
    "input_parameters = open(\"more-input.txt\", 'r', encoding='utf-8') \n",
    "start_actor = 'Kevin_Bacon'\n",
    "small_level_sets = compute_level_sets(small_actor_graph, start_actor)\n",
    "print(f\"Level Set Graph for Small actor graph\")\n",
    "plot_level_set(small_level_sets, start_actor)\n",
    "print(\"\\n\")\n",
    "large_level_sets = compute_level_sets(large_actor_graph, start_actor)\n",
    "print(f\"Level Set Graph for Large actor graph\")\n",
    "plot_level_set(large_level_sets, start_actor)\n",
    "\n"
   ]
  },
  {
   "cell_type": "markdown",
   "metadata": {},
   "source": [
    "\n",
    "5. **Connected Components**: Determine the sizes of the connected components in each graph.\n"
   ]
  },
  {
   "cell_type": "code",
   "execution_count": null,
   "metadata": {},
   "outputs": [],
   "source": [
    "\n",
    "\n",
    "print(f\"Small Graph : {small_actor_graph.Size()}\")\n",
    "print(f\"Large Graph : {large_actor_graph.Size()}\")"
   ]
  },
  {
   "cell_type": "markdown",
   "metadata": {},
   "source": [
    "\n",
    "6. **Edge Count Comparison**: Compare the number of edges traversed between vanilla BFS and Bidirectional BFS (Bi-BFS) for the pairs in the example input files. Include your own generated examples in this comparison.\n"
   ]
  },
  {
   "cell_type": "code",
   "execution_count": null,
   "metadata": {},
   "outputs": [],
   "source": []
  },
  {
   "cell_type": "markdown",
   "metadata": {},
   "source": [
    "\n",
    "7. **Wall-Clock Time**: Measure and compare the actual running times of BFS and Bi-BFS using the `timeit` module in Python. Provide wall-clock time data for the pairs in the example input files, as well as your own examples.\n"
   ]
  },
  {
   "cell_type": "code",
   "execution_count": null,
   "metadata": {},
   "outputs": [],
   "source": [
    "def compare_algorithm_time(start, end, graph):\n",
    "\tbfs_time = timeit(lambda : bfs(start=start, end=end, graph=graph, merged=False), number=10)\n",
    "\tbi_bfs_time = timeit(lambda : BiDi_BFS(start=start, end=end, graph=graph, merged=False), number=10)\n",
    "\treturn bfs_time, bi_bfs_time\n",
    "\n",
    "def collect_runtime_data(input_parameters:str, graph:graph):\n",
    "\tbfs_times = []\n",
    "\tbi_bfs_times = []\n",
    "\tpairs = []\n",
    "\tfor param in input_parameters:\n",
    "\t\tstriped_param = param.strip().split()\n",
    "\t\tstart, end = striped_param[0], striped_param[1]\n",
    "\t\tbfs_time, bi_bfs_time = compare_algorithm_time(start, end, graph)\n",
    "\n",
    "\t\tbfs_times.append(bfs_time)\n",
    "\t\tbi_bfs_times.append(bi_bfs_time)\n",
    "\t\tpairs.append(f\"{start}->{end}\")\n",
    "\n",
    "\treturn bfs_times, bi_bfs_times, pairs\n",
    "\n",
    "def plot_runtime_comparison(bfs_times, bi_bfs_times, pairs, graph_name):\n",
    "    plt.figure(figsize=(12, 6))\n",
    "    x = range(len(pairs))\n",
    "\n",
    "    bar_width = 0.4  # Width of the bars\n",
    "    plt.bar([i - bar_width / 2 for i in x], bfs_times, bar_width, label=\"BFS\", color='skyblue')\n",
    "    plt.bar([i + bar_width / 2 for i in x], bi_bfs_times, bar_width, label=\"Bi-BFS\", color='salmon')\n",
    "\n",
    "    plt.xticks(x, pairs, rotation=45, ha=\"right\")\n",
    "    plt.xlabel(\"Actor Pairs\")\n",
    "    plt.ylabel(\"Runtime (seconds)\")\n",
    "    plt.title(f\"Runtime Comparison of BFS vs Bi-BFS ({graph_name})\")\n",
    "    plt.legend()\n",
    "    plt.tight_layout()\n",
    "    plt.grid(axis='y', linestyle='--', alpha=0.7)\n",
    "    plt.show()"
   ]
  },
  {
   "cell_type": "code",
   "execution_count": null,
   "metadata": {},
   "outputs": [],
   "source": [
    "print(\"Runtime Comparison using Small Actor Graph\")\n",
    "input_parameters = open(\"more-input.txt\", 'r', encoding='utf-8')  \n",
    "bfs_times_small, bi_bfs_times_small, pairs_small = collect_runtime_data(input_parameters, small_actor_graph)\n",
    "plot_runtime_comparison(bfs_times_small, bi_bfs_times_small, pairs_small, \"Small Actor Graph\")\n",
    "input_parameters.close()"
   ]
  },
  {
   "cell_type": "code",
   "execution_count": null,
   "metadata": {},
   "outputs": [],
   "source": [
    "print(\"Runtime Comparison using Large Actor Graph\")\n",
    "input_parameters = open(\"more-input.txt\", 'r', encoding='utf-8')  \n",
    "bfs_times_large, bi_bfs_times_large, pairs_large = collect_runtime_data(input_parameters, large_actor_graph)\n",
    "plot_runtime_comparison(bfs_times_large, bi_bfs_times_large, pairs_large, \"Large Actor Graph\")\n",
    "input_parameters.close()"
   ]
  }
 ],
 "metadata": {
  "kernelspec": {
   "display_name": ".venv",
   "language": "python",
   "name": "python3"
  },
  "language_info": {
   "codemirror_mode": {
    "name": "ipython",
    "version": 3
   },
   "file_extension": ".py",
   "mimetype": "text/x-python",
   "name": "python",
   "nbconvert_exporter": "python",
   "pygments_lexer": "ipython3",
   "version": "3.13.1"
  }
 },
 "nbformat": 4,
 "nbformat_minor": 2
}
