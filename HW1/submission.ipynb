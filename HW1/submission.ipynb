{
 "cells": [
  {
   "cell_type": "markdown",
   "metadata": {},
   "source": [
    "# Homework 1: Six Degrees of Kevin Bacon\n",
    "\n",
    "Read [bfs_six_degrees.pdf](bfs_six_degrees.pdf) for the assignment spec. Submit this .ipynb to the professor to demonstrate your solution. This is unofficial and is maintained by a fellow student, Justin, aka the glizzy goblin."
   ]
  },
  {
   "cell_type": "code",
   "execution_count": 1,
   "metadata": {},
   "outputs": [
    {
     "name": "stdout",
     "output_type": "stream",
     "text": [
      "5\n"
     ]
    }
   ],
   "source": [
    "from graph_tools import graph\n",
    "from collections import deque\n",
    "\n",
    "test = graph()\n",
    "test.vertices.add(5)\n",
    "print(test.vertices.pop())"
   ]
  },
  {
   "cell_type": "code",
   "execution_count": 2,
   "metadata": {},
   "outputs": [],
   "source": [
    "# Helper Functions\n",
    "def process_credits_file_to_graph(graph:graph, file_path:str):\n",
    "    try:\n",
    "        with  open(file_path, 'r', encoding='utf-8') as list_edges:\n",
    "            for line in list_edges:\n",
    "                process_line(graph, line)\n",
    "    except FileNotFoundError:\n",
    "        print(f\"Error: was not able to find {file_path}\")\n",
    "    except UnicodeDecodeError as e:\n",
    "        print(f\"Encoding error while reading the file: {e}\")\n",
    "\n",
    "def process_line(graph:graph, line:str):\n",
    "    split_line = line.strip().split()\n",
    "    if not split_line: return\n",
    "    \n",
    "    movie_name, actors = split_line[0], split_line[1:]\n",
    "    \n",
    "    for actor_1 in actors:\n",
    "        co_stars = [actor for actor in actors if actor != actor_1]\n",
    "        for actor_2 in co_stars:\n",
    "            graph.Add_und_edge(actor_1, actor_2, movie_name)"
   ]
  },
  {
   "cell_type": "code",
   "execution_count": 3,
   "metadata": {},
   "outputs": [],
   "source": [
    "def format_output(merged_result:list):\n",
    "    if not merged_result: return \"No path found\"\n",
    "    out=\"\"\n",
    "    for i in range(len(merged_result)):\n",
    "        if i % 2 == 1:\n",
    "            out += f\"-({merged_result[i]})-\"\n",
    "            continue\n",
    "        out += merged_result[i]\n",
    "    return out\n",
    "\n",
    "def reconstruct_path(adj:list, current:str, graph:graph):\n",
    "        # reconstruct path from start to end given adjacency list        \n",
    "        total_path = []\n",
    "        while current in adj and current != None:\n",
    "            total_path.append(current)\n",
    "            current = adj[current]\n",
    "        total_path = total_path[::-1]\n",
    "        movies = [graph.adj_list[total_path[i]][total_path[i + 1]] for i in range(len(total_path) - 1)]\n",
    "        \n",
    "        # merge results between actor names and movie edges\n",
    "        merged_result = [item for pair in zip(total_path, movies) for item in pair]\n",
    "        merged_result.extend(total_path[len(movies):])\n",
    "\n",
    "        # format oout put as string\n",
    "        return format_output(merged_result)        "
   ]
  },
  {
   "cell_type": "markdown",
   "metadata": {},
   "source": [
    "**Vanilla BFS**"
   ]
  },
  {
   "cell_type": "code",
   "execution_count": 4,
   "metadata": {},
   "outputs": [],
   "source": [
    "def bfs(start:str, end:str, graph:graph):\n",
    "    if start not in graph.vertices or end not in graph.vertices:\n",
    "        return \"Not present\"    \n",
    "    queue = deque([])\n",
    "    visited = {actor: False for actor in graph.vertices}\n",
    "    pred = {actor: None for actor in graph.vertices}\n",
    "    \n",
    "    visited[start] = True\n",
    "    queue.append(start)\n",
    "    # while queue is not empty\n",
    "    while queue:\n",
    "        # pop from queue\n",
    "        current = queue.popleft()\n",
    "        if(current == end):\n",
    "            return reconstruct_path(adj=pred, current=current, graph=graph)\n",
    "        neighbors = graph.adj_list[current]\n",
    "        for neighbor in neighbors:\n",
    "                if not visited[neighbor]:\n",
    "                    visited[neighbor] = True\n",
    "                    pred[neighbor] = current\n",
    "                    queue.append(neighbor)\n",
    "                \n",
    "    return \"Not present\"\n",
    "     "
   ]
  },
  {
   "cell_type": "code",
   "execution_count": 5,
   "metadata": {},
   "outputs": [],
   "source": [
    "actor_graph = graph()\n",
    "file_path = \"smaller_imdb_cleaned.txt\"\n",
    "process_credits_file_to_graph(actor_graph, file_path)"
   ]
  },
  {
   "cell_type": "code",
   "execution_count": 6,
   "metadata": {},
   "outputs": [
    {
     "name": "stdout",
     "output_type": "stream",
     "text": [
      "Brad_Pitt-(On_Location:_Fight_Club)-Edward_Norton-(The_Making_of_'The_Illusionist')-Jessica_Biel-(JT:_Reflections)-Justin_Timberlake-(Justin_Timberlake:_Justified_-_The_Videos)-Nelly-(Nelly_&_St._Lunatics:_Batter_Up)-Ali-(Khaidi_No._150)-Chiranjeevi-(Sye_Raa_Narasimha_Reddy)-Amitabh_Bachchan\n",
      "\n",
      "Brad_Pitt-(Troy:_In_the_Thick_of_Battle)-Simon_Crane-(A_World_on_the_'Edge_of_Tomorrow')-Tom_Cruise\n",
      "\n",
      "Will_Smith-(Club_Oscar)-Robert_De_Niro-(Scorsese's_Goodfellas)-Leonardo_DiCaprio-(Inception)-Ellen_Page\n",
      "\n",
      "Not present\n",
      "\n",
      "Not present\n",
      "\n",
      "Marion_Cotillard-(Blood_Ties:_Behind_the_Scenes)-Clive_Owen-(King_Arthur:_A_Roundtable_Discussion)-Antoine_Fuqua-(The_Magnificent_Seven:_Gunslingers)-Ethan_Hawke\n",
      "\n",
      "Kevin_Bacon-(Sundance_Skippy)-Zooey_Deschanel-(Winter_Passing)-Will_Ferrell-(The_Zoolander_Legacy)-Justin_Bieber\n",
      "\n",
      "Frank_Sinatra_Jr.-(Do_It_in_the_Dirt)-Suzan_Averitt-(Rebel_Dabble_Babble)-James_Franco-(Love_Conquers_All:_The_Making_of_Tristan_+_Isolde)-Jim_Lemley-(Through_the_Eyes_of_Director_Timur_Bekmambetov)-Thomas_Kretschmann-(Prince_Valiant)-Katherine_Heigl\n",
      "\n",
      "Michael_Cera-(Sundance_Skippy)-Kevin_Bacon-(Mystic_River:_Beneath_the_Surface)-Sean_Penn-(Spirit_Animal:_Making_'The_Indian_Runner')-Viggo_Mortensen\n",
      "\n"
     ]
    }
   ],
   "source": [
    "input_file = \"more-input.txt\"\n",
    "output_file = \"more-output.txt\"\n",
    "\n",
    "input_parameters = open(input_file, 'r', encoding='utf-8')\n",
    "expected_output = open(output_file, 'r', encoding='utf-8')\n",
    "\n",
    "for param, out in zip(input_parameters, expected_output):\n",
    "    striped_param = param.strip().split()\n",
    "    start, end = striped_param[0], striped_param[1]\n",
    "    path = bfs(start=start, end=end, graph=actor_graph)\n",
    "    print(f\"{path}\\n\")\n"
   ]
  },
  {
   "cell_type": "markdown",
   "metadata": {},
   "source": [
    "**Bidirectional BFS**"
   ]
  },
  {
   "cell_type": "code",
   "execution_count": 7,
   "metadata": {},
   "outputs": [],
   "source": [
    "# Refrenced https://www.geeksforgeeks.org/bidirectional-search/\n",
    "\n",
    "def isIntersecting(start_visited:dict, end_visited:dict, graph:graph):\n",
    "\tfor actor in graph.vertices():\n",
    "\t\tif( start_visited[actror] and end_visited[actor]): return actor\n",
    "\n",
    "def BiDi_BFS(start: str, end: str, graph: graph):\n",
    "\tif start not in graph.vertices or end not in graph.vertices:\n",
    "\t\treturn \"Not present\"\n",
    "\tstart_queue = deque([])\n",
    "\tend_queue = deque([])\n",
    "\n",
    "\t# initializes start and end visted nodes as false\n",
    "\tstart_visited = {actor: False for actor in graph.vertices}\n",
    "\tend_visited = {actor: False for actor in graph.vertices}\n",
    "\n",
    "\t#initialize start and end adj list\n",
    "\tstart_pred = {actor: None for actor in graph.vertices}\n",
    "\tend_pred = {actor: None for actor in graph.vertices}\n",
    "\n",
    "\twhile start_queue and end_queue:\n",
    "\t\t# Forward BFS\n",
    "\t\t# Backward BFS\n",
    "\t\tif (isIntersecting(start_visited,end_visited, graph))\n",
    "\t\t\treturn\n",
    "\t\n",
    "\treturn \"No Path Found\""
   ]
  }
 ],
 "metadata": {
  "kernelspec": {
   "display_name": ".venv",
   "language": "python",
   "name": "python3"
  },
  "language_info": {
   "codemirror_mode": {
    "name": "ipython",
    "version": 3
   },
   "file_extension": ".py",
   "mimetype": "text/x-python",
   "name": "python",
   "nbconvert_exporter": "python",
   "pygments_lexer": "ipython3",
   "version": "3.11.1"
  }
 },
 "nbformat": 4,
 "nbformat_minor": 2
}
